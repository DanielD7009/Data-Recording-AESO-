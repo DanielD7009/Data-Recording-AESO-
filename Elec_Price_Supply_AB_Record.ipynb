{
 "cells": [
  {
   "cell_type": "code",
   "execution_count": 1,
   "id": "48414828",
   "metadata": {},
   "outputs": [],
   "source": [
    "import requests\n",
    "from bs4 import BeautifulSoup\n",
    "import smtplib\n",
    "import time\n",
    "import csv\n",
    "import pandas as pd"
   ]
  },
  {
   "cell_type": "code",
   "execution_count": 2,
   "id": "c52b1eef",
   "metadata": {},
   "outputs": [],
   "source": [
    "Data=['']"
   ]
  },
  {
   "cell_type": "code",
   "execution_count": 3,
   "id": "684a95ca",
   "metadata": {},
   "outputs": [],
   "source": [
    "def read_data():\n",
    "    url='http://ets.aeso.ca/ets_web/ip/Market/Reports/CSDReportServlet'\n",
    "    page = requests.get(url)\n",
    "    soup = BeautifulSoup(page.content, 'html.parser')\n",
    "    whole=soup.find_all('tr')\n",
    "    for i in range(238):\n",
    "        whole[i]=whole[i].get_text()\n",
    "    New_Row=[whole[2][23:41],whole[23][8:-2],whole[24][8:-3], whole[26][9:-1],whole[27][8:-1],whole[30][7:-1],whole[29][12:-1]]\n",
    "    return New_Row\n",
    "    #print(New_Row)\n",
    "\n",
    "def update_data(Data):\n",
    "    New_Data=Data+[read_data()]\n",
    "    Data=New_Data\n",
    "    return Data\n",
    "\n",
    "def record(Data):\n",
    "    try:\n",
    "        while True:\n",
    "            Data=update_data(Data)\n",
    "            print(Data)\n",
    "            with open('sheet_1'+time.ctime(time.time())[0:11]+'.csv', mode='w',newline='') as sheet:\n",
    "                sheet_writer = csv.writer(sheet)\n",
    "                sheet_writer.writerow(['','GAS','HYDRO', 'SOLAR','WIND','COAL','DUAL FUEL'])\n",
    "                sheet_writer.writerows(Data)\n",
    "            time.sleep(3600)\n",
    "    except:\n",
    "        record(Data)"
   ]
  },
   ],
   "source": [
    "record(Data)"
   ]
  },
  {
   "cell_type": "code",
   "execution_count": null,
   "id": "c5946dd3",
   "metadata": {},
   "outputs": [],
   "source": []
  }
 ],
 "metadata": {
  "kernelspec": {
   "display_name": "Python 3 (ipykernel)",
   "language": "python",
   "name": "python3"
  },
  "language_info": {
   "codemirror_mode": {
    "name": "ipython",
    "version": 3
   },
   "file_extension": ".py",
   "mimetype": "text/x-python",
   "name": "python",
   "nbconvert_exporter": "python",
   "pygments_lexer": "ipython3",
   "version": "3.9.7"
  }
 },
 "nbformat": 4,
 "nbformat_minor": 5
}
